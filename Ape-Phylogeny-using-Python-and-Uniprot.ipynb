!pip install biopython
import requests as r
from Bio import SeqIO
from io import StringIO

#funkcja do ekstrakcji sekwencji fasta z uniprota
def read_uniprot(ID, query):
  baseUrl="http://www.uniprot.org/uniprot/"
  currentUrl=baseUrl+ID+".fasta"
  response = r.post(currentUrl)
  cData = ''.join(response.text)
  cData = cData.replace(query, '')
  return cData

#kolagen człowieka
hum_col=str(read_uniprot('P02452','>sp|P02452|CO1A1_HUMAN Collagen alpha-1(I) chain OS=Homo sapiens OX=9606 GN=COL1A1 PE=1 SV=6'))

#kolagen szympansa
chim_col=str(read_uniprot('H2QDE6','>tr|H2QDE6|H2QDE6_PANTR Collagen type I alpha 1 chain OS=Pan troglodytes OX=9598 GN=COL1A1 PE=2 SV=1'))

#kolagen szympansa karłowatego
pyg_col=str(read_uniprot('A0A2R8Z6R3','>tr|A0A2R8Z6R3|A0A2R8Z6R3_PANPA Collagen type I alpha 1 chain OS=Pan paniscus OX=9597 GN=COL1A1 PE=4 SV=1'))

#kolage goryla
gor_col=str(read_uniprot('G3RBN8','>tr|G3RBN8|G3RBN8_GORGO Collagen type I alpha 1 chain OS=Gorilla gorilla gorilla OX=9595 GN=COL1A1 PE=4 SV=1'))

#kolagen orangutana
oran_col=str(read_uniprot('H2NVM9','>tr|H2NVM9|H2NVM9_PONAB Collagen type I alpha 1 chain OS=Pongo abelii OX=9601 GN=COL1A1 PE=4 SV=2'))

#kolagen gibona
gib_col=str(read_uniprot('G1RCL9','>tr|G1RCL9|G1RCL9_NOMLE Collagen type I alpha 1 chain OS=Nomascus leucogenys OX=61853 GN=COL1A1 PE=4 SV=3'))

#kolagen makaka
rhe_col=str(read_uniprot('F7BJV7','>tr|F7BJV7|F7BJV7_MACMU Collagen alpha-1(I) chain preproprotein OS=Macaca mulatta OX=9544 GN=COL1A1 PE=2 SV=3'))

#prnp człowieka
hum_p=str(read_uniprot('P04156','>sp|P04156|PRIO_HUMAN Major prion protein OS=Homo sapiens OX=9606 GN=PRNP PE=1 SV=1'))

#prnp szympansa
chim_p=str(read_uniprot('P61768','>sp|P61768|PRIO_PANTR Major prion protein OS=Pan troglodytes OX=9598 GN=PRNP PE=2 SV=1'))

#prnp szympansa karłowatego
pyg_p=str(read_uniprot('A0A2R8ZHM9','>tr|A0A2R8ZHM9|A0A2R8ZHM9_PANPA Major prion protein OS=Pan paniscus OX=9597 GN=PRNP PE=3 SV=1'))

#prnp goryla
gor_p=str(read_uniprot('P40252','>sp|P40252|PRIO_GORGO Major prion protein OS=Gorilla gorilla gorilla OX=9595 GN=PRNP PE=3 SV=1'))

#prnp orangutana
oran_p=str(read_uniprot('A2BDH2','>tr|A2BDH2|A2BDH2_PONAB Major prion protein OS=Pongo abelii OX=9601 GN=prnp PE=3 SV=1'))

#prnp gibona
gib_p=str(read_uniprot('A0A2I3FRC9','>tr|A0A2I3FRC9|A0A2I3FRC9_NOMLE Major prion protein OS=Nomascus leucogenys OX=61853 GN=PRNP PE=3 SV=1'))

#prnp makaka
rhe_p=str(read_uniprot('P67997','>sp|P67997|PRIO_MACMU Major prion protein OS=Macaca mulatta OX=9544 GN=PRNP PE=3 SV=1'))

#mioglobina człowieka
hum_m=str(read_uniprot('P02144','>sp|P02144|MYG_HUMAN Myoglobin OS=Homo sapiens OX=9606 GN=MB PE=1 SV=2'))

#mioglobina szympansa
chim_m=str(read_uniprot('P02145','>sp|P02145|MYG_PANTR Myoglobin OS=Pan troglodytes OX=9598 GN=MB PE=1 SV=2'))

#mioglobina szympansa karłowatego
pyg_m=str(read_uniprot('A0A2R9BL13','>tr|A0A2R9BL13|A0A2R9BL13_PANPA Myoglobin OS=Pan paniscus OX=9597 GN=MB PE=3 SV=1'))

#mioglobina goryla
gor_m=str(read_uniprot('G3R764','>tr|G3R764|G3R764_GORGO Myoglobin OS=Gorilla gorilla gorilla OX=9595 GN=MB PE=3 SV=1'))

#mioglobina orangutana
oran_m=str(read_uniprot('A0A2J8UVT2','>tr|A0A2J8UVT2|A0A2J8UVT2_PONAB Myoglobin OS=Pongo abelii OX=9601 GN=MB PE=3 SV=1'))

#mioglobina gibona
gib_m=str(read_uniprot('G1RW45','>tr|G1RW45|G1RW45_NOMLE Myoglobin OS=Nomascus leucogenys OX=61853 GN=MB PE=3 SV=1'))

#mioglobina makaka
rhe_m=str(read_uniprot('F7ARV1','>tr|F7ARV1|F7ARV1_MACMU Myoglobin OS=Macaca mulatta OX=9544 GN=MB PE=3 SV=2'))

#cytochrom człowieka
hum_cyt=str(read_uniprot('P99999', '>sp|P99999|CYC_HUMAN Cytochrome c OS=Homo sapiens OX=9606 GN=CYCS PE=1 SV=2'))

#cytochrom szympansa
chim_cyt=str(read_uniprot('P99998', '>sp|P99998|CYC_PANTR Cytochrome c OS=Pan troglodytes OX=9598 GN=CYCS PE=1 SV=2'))

#cytochrom szympansa karłowatego
pyg_cyt=str(read_uniprot('G4XXM0', '>tr|G4XXM0|G4XXM0_PANPA Cytochrome c OS=Pan paniscus OX=9597 GN=CYCS PE=3 SV=1'))

#cytochrom goryla
gor_cyt=str(read_uniprot('Q6WUX8', '>sp|Q6WUX8|CYC_GORGO Cytochrome c OS=Gorilla gorilla gorilla OX=9595 GN=CYCS PE=3 SV=3'))

#cytochrom orangutana
oran_cyt=str(read_uniprot('Q5RFH4', '>sp|Q5RFH4|CYC_PONAB Cytochrome c OS=Pongo abelii OX=9601 GN=CYCS PE=3 SV=3'))

#cytochrom gibona
gib_cyt=str(read_uniprot('G1RY04', '>tr|G1RY04|G1RY04_NOMLE Cytochrome c OS=Nomascus leucogenys OX=61853 GN=CYCS PE=3 SV=1'))

#cytochrom makaka
rhe_cyt=str(read_uniprot('P00002', '>sp|P00002|CYC_MACMU Cytochrome c OS=Macaca mulatta OX=9544 GN=CYCS PE=1 SV=2'))

#p53 człowieka
hum_pp=str(read_uniprot('P04637', '>sp|P04637|P53_HUMAN Cellular tumor antigen p53 OS=Homo sapiens OX=9606 GN=TP53 PE=1 SV=4'))

#p53 szympansa
chim_pp=str(read_uniprot('H2QC53', '>tr|H2QC53|H2QC53_PANTR Cellular tumor antigen p53 OS=Pan troglodytes OX=9598 GN=TP53 PE=2 SV=1'))

#p53 szympansa karłowatego
pyg_pp=str(read_uniprot('A0A2R9A5P4', '>tr|A0A2R9A5P4|A0A2R9A5P4_PANPA Cellular tumor antigen p53 OS=Pan paniscus OX=9597 GN=TP53 PE=3 SV=1'))

#p53 goryla
gor_pp=str(read_uniprot('G3R2U9', '>tr|G3R2U9|G3R2U9_GORGO Cellular tumor antigen p53 OS=Gorilla gorilla gorilla OX=9595 PE=3 SV=1'))

#p53 orangutana
oran_pp=str(read_uniprot('A0A2J8WI12', '>tr|A0A2J8WI12|A0A2J8WI12_PONAB Cellular tumor antigen p53 OS=Pongo abelii OX=9601 GN=CR201_G0010709 PE=3 SV=1'))

#p53 gibona
gib_pp=str(read_uniprot('G1RF61', '>tr|G1RF61|G1RF61_NOMLE Cellular tumor antigen p53 OS=Nomascus leucogenys OX=61853 GN=TP53 PE=3 SV=2'))

#p53 makaka
rhe_pp=str(read_uniprot('P56424', '>sp|P56424|P53_MACMU Cellular tumor antigen p53 OS=Macaca mulatta OX=9544 GN=TP53 PE=2 SV=1'))

from difflib import SequenceMatcher

#funkcja do obliczania wyniku dla 2 sekwencji
def score(a, b):
    return SequenceMatcher(None, a, b).ratio()

chim_col_sc = score(chim_col, hum_col)
chim_p_sc = score(chim_p, hum_p)
chim_m_sc = score(chim_m, hum_m)
chim_pp_sc = score(chim_pp, hum_pp)
chim_cyt_sc = score(chim_cyt, hum_cyt)

pyg_col_sc = score(pyg_col, hum_col)
pyg_p_sc = score(pyg_p, hum_p)
pyg_m_sc = score(pyg_m, hum_m)
pyg_pp_sc = score(pyg_pp, hum_pp)
pyg_cyt_sc = score(pyg_cyt, hum_cyt)

gor_col_sc = score(gor_col, hum_col)
gor_p_sc = score(gor_p, hum_p)
gor_m_sc = score(gor_m, hum_m)
gor_pp_sc = score(gor_pp, hum_pp)
gor_cyt_sc = score(gor_cyt, hum_cyt)

oran_col_sc = score(oran_col, hum_col)
oran_p_sc = score(oran_p, hum_p)
oran_m_sc = score(oran_m, hum_m)
oran_pp_sc = score(oran_pp, hum_pp)
oran_cyt_sc = score(oran_cyt, hum_cyt)

gib_col_sc = score(gib_col, hum_col)
gib_p_sc = score(gib_p, hum_p)
gib_m_sc = score(gib_m, hum_m)
gib_pp_sc = score(gib_pp, hum_pp)
gib_cyt_sc = score(gib_cyt, hum_cyt)

rhe_col_sc = score(rhe_col, rhe_col)
rhe_p_sc = score(rhe_p, rhe_p)
rhe_m_sc = score(rhe_m, rhe_m)
rhe_pp_sc = score(rhe_pp, hum_pp)
rhe_cyt_sc = score(rhe_cyt, hum_cyt)

import numpy as np
import matplotlib.pyplot as plt

#wykres słupkowy wyników dla poszczególnych zwierząt

Pan_tr = {"Collagen":chim_col_sc,"Myoglobin":chim_m_sc, "Major prion protein":chim_p_sc, "Cytochrome c":chim_cyt_sc, "TP53":chim_pp_sc}
Pan_pyg = {"Collagen":pyg_col_sc,"Myoglobin":pyg_m_sc, "Major prion protein":pyg_p_sc, "Cytochrome c":pyg_cyt_sc, "TP53":pyg_pp_sc}
Gor_g = {"Collagen":gor_col_sc,"Myoglobin":gor_m_sc, "Major prion protein":gor_p_sc, "Cytochrome c":gor_cyt_sc, "TP53":gor_pp_sc}
Pon_a = {"Collagen":oran_col_sc,"Myoglobin":oran_m_sc, "Major prion protein":oran_p_sc, "Cytochrome c":oran_cyt_sc, "TP53":oran_pp_sc}
Nom_leu = {"Collagen":gib_col_sc,"Myoglobin":gib_m_sc, "Major prion protein":gib_p_sc, "Cytochrome c":gib_cyt_sc, "TP53":gib_pp_sc}
Mac_m = {"Collagen":rhe_col_sc,"Myoglobin":rhe_m_sc, "Major prion protein":rhe_p_sc, "Cytochrome c":rhe_cyt_sc, "TP53":rhe_pp_sc}

Pan_val = list(Pan_tr.keys())
Pan_scores = list(Pan_tr.values())
Pyg_scores = list(Pan_pyg.values())
Gor_scores = list(Gor_g.values())
Pon_scores = list(Pon_a.values())
Nom_scores = list(Nom_leu.values())
Mac_scores = list(Mac_m.values())

Chimp = float(np.average(Pan_scores))
Pygmy = float(np.average(Pyg_scores))
Gorilla = float(np.average(Gor_scores))
Orangutan = float(np.average(Pon_scores))
Gibbon = float(np.average(Nom_scores))
Macaque = float(np.average(Mac_scores))

Primates = {"Pan troglodytes":Chimp, "Pan paniscus":Pygmy, "Gorilla gorilla":Gorilla, "Pongo abelli":Orangutan, "Nomascus leucogenys":Gibbon, "Macaca mulatta":Macaque}

barwidth = 0.5
fig = plt.subplots(figsize=(12,8))
br1 = np.arange(len(Primates))

plt.bar(br1, Primates.values(), color='r', width=barwidth, edgecolor='grey', label='Average score')

plt.xlabel("Animals from which the protein was isolated", fontweight='bold', fontsize=15)
plt.ylabel("Average similarity with human variant of the protein", fontweight='bold', fontsize=15)
plt.xticks([r+barwidth for r in range(len(Primates.values()))], Primates.keys())
plt.title("Average protein sequence similarity between selected animals and human")
plt.legend()
plt.show()
